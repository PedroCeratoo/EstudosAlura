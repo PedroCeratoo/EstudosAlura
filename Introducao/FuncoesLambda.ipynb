{
 "cells": [
  {
   "cell_type": "code",
   "execution_count": 1,
   "metadata": {},
   "outputs": [
    {
     "data": {
      "text/plain": [
       "8.1"
      ]
     },
     "execution_count": 1,
     "metadata": {},
     "output_type": "execute_result"
    }
   ],
   "source": [
    "N1 = float(input(\"Digite a primeira nota aqui: \"))\n",
    "N2 = float(input(\"Digite a segunda nota aqui: \"))\n",
    "N3 = float(input(\"Digite a terceira nota aqui: \"))\n",
    "\n",
    "media_ponderavel = lambda x, y, z: (x * 3 + y * 2 + z * 5) / 10\n",
    "medida_estudante = media_ponderavel(N1, N2, N3)\n",
    "\n",
    "medida_estudante\n"
   ]
  },
  {
   "cell_type": "code",
   "execution_count": null,
   "metadata": {},
   "outputs": [],
   "source": [
    "notas = [6.0, 7.0, 9.0, 5.5, 8.0]\n",
    "qualitativo = 0.5"
   ]
  },
  {
   "cell_type": "code",
   "execution_count": 8,
   "metadata": {},
   "outputs": [
    {
     "data": {
      "text/plain": [
       "[6.5, 7.5, 9.5, 6.0, 8.5]"
      ]
     },
     "execution_count": 8,
     "metadata": {},
     "output_type": "execute_result"
    }
   ],
   "source": [
    "notas_atualizadas = list(map(lambda x: x + qualitativo, notas))\n",
    "notas_atualizadas"
   ]
  }
 ],
 "metadata": {
  "kernelspec": {
   "display_name": ".venv",
   "language": "python",
   "name": "python3"
  },
  "language_info": {
   "codemirror_mode": {
    "name": "ipython",
    "version": 3
   },
   "file_extension": ".py",
   "mimetype": "text/x-python",
   "name": "python",
   "nbconvert_exporter": "python",
   "pygments_lexer": "ipython3",
   "version": "3.13.5"
  }
 },
 "nbformat": 4,
 "nbformat_minor": 2
}
