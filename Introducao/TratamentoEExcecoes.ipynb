{
 "cells": [
  {
   "cell_type": "code",
   "execution_count": 1,
   "metadata": {},
   "outputs": [],
   "source": [
    "notas = {'João': [8.0, 9.0, 10.0], 'Maria': [9.0, 7.0, 6.0], 'José': [3.4, 7.0, 8.0],'Cláudia': [5.5, 6.6, 8.0], 'Ana': [6.0, 10.0, 9.5], 'Joaquim': [5.5, 7.5, 9.0], 'Júlia': [6.0, 8.0, 7.0], 'Pedro': [3.0, 4.0, 6.0]}\n"
   ]
  },
  {
   "cell_type": "code",
   "execution_count": 2,
   "metadata": {},
   "outputs": [
    {
     "data": {
      "text/plain": [
       "[8.0, 9.0, 10.0]"
      ]
     },
     "execution_count": 2,
     "metadata": {},
     "output_type": "execute_result"
    }
   ],
   "source": [
    "nome = input(\"Digite o nome do(a) estudante: \")\n",
    "resultado = notas[nome]\n",
    "resultado"
   ]
  },
  {
   "cell_type": "code",
   "execution_count": 3,
   "metadata": {},
   "outputs": [
    {
     "name": "stdout",
     "output_type": "stream",
     "text": [
      "[8.0, 9.0, 10.0]\n",
      "Consulta encerrada !\n"
     ]
    }
   ],
   "source": [
    "try:\n",
    "    nome = input(\"Digite o nome do(a) estudante: \")\n",
    "    resultado = notas[nome]\n",
    "except KeyError as e:\n",
    "    print(\"Estudante não matriculado(a) na turma\")\n",
    "else:\n",
    "    print(resultado)\n",
    "finally:\n",
    "    print(\"Consulta encerrada !\")"
   ]
  },
  {
   "cell_type": "code",
   "execution_count": 4,
   "metadata": {},
   "outputs": [],
   "source": [
    "def media(lista: list=[0]) -> float:\n",
    "\n",
    "\n",
    "    calculo = sum(lista) / len(lista)\n",
    "    if len(lista) > 4:\n",
    "        raise ValueError(\"A lista não pode possuir mais de quatro notas\")\n",
    "    return calculo"
   ]
  },
  {
   "cell_type": "code",
   "execution_count": 6,
   "metadata": {},
   "outputs": [
    {
     "name": "stdout",
     "output_type": "stream",
     "text": [
      "Não foi possível calcular a média do(a) estudante. Só são aceitos valores numéricos !\n",
      "A consulta foi encerrada !\n"
     ]
    }
   ],
   "source": [
    "try:\n",
    "    notas = [6, 7, 8, 8, '9']\n",
    "    resultado = media(notas)\n",
    "except TypeError:\n",
    "    print(\"Não foi possível calcular a média do(a) estudante. Só são aceitos valores numéricos !\")\n",
    "except ValueError as e:\n",
    "    print(e)\n",
    "else:\n",
    "    print(resultado)\n",
    "finally:\n",
    "    print(\"A consulta foi encerrada !\")\n"
   ]
  }
 ],
 "metadata": {
  "kernelspec": {
   "display_name": ".venv",
   "language": "python",
   "name": "python3"
  },
  "language_info": {
   "codemirror_mode": {
    "name": "ipython",
    "version": 3
   },
   "file_extension": ".py",
   "mimetype": "text/x-python",
   "name": "python",
   "nbconvert_exporter": "python",
   "pygments_lexer": "ipython3",
   "version": "3.13.5"
  }
 },
 "nbformat": 4,
 "nbformat_minor": 2
}
